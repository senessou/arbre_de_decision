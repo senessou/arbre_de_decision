{
 "cells": [
  {
   "cell_type": "code",
   "execution_count": 1,
   "id": "6ff17807",
   "metadata": {},
   "outputs": [],
   "source": [
    "import pandas as pd\n",
    "import numpy as np\n",
    "import os \n",
    "from sklearn.tree import DecisionTreeClassifier\n",
    "from sklearn.model_selection import train_test_split\n",
    "from sklearn.linear_model import LogisticRegression\n",
    "from sklearn.metrics import confusion_matrix, recall_score, accuracy_score, classification_report, precision_score"
   ]
  },
  {
   "cell_type": "code",
   "execution_count": 2,
   "id": "d9c572ed",
   "metadata": {},
   "outputs": [],
   "source": [
    "#afficher le répertoire courant\n",
    "os.getcwd()\n",
    "#Changer de répertoire de travail\n",
    "os.chdir('/home/senessou')"
   ]
  },
  {
   "cell_type": "code",
   "execution_count": 3,
   "id": "a2dd9dd6",
   "metadata": {},
   "outputs": [],
   "source": [
    "#Chargement du DF\n",
    "data = pd.read_excel('Copie de Coeur.xlsx')"
   ]
  },
  {
   "cell_type": "code",
   "execution_count": 4,
   "id": "e4d4f3a3",
   "metadata": {},
   "outputs": [],
   "source": [
    "#Travailler avec une copie du data Frame pour éviter de le rechager en cas d'êrreur\n",
    "df = data.copy()"
   ]
  },
  {
   "cell_type": "code",
   "execution_count": 5,
   "id": "207cd3b3",
   "metadata": {},
   "outputs": [
    {
     "name": "stdout",
     "output_type": "stream",
     "text": [
      "<class 'pandas.core.frame.DataFrame'>\n",
      "RangeIndex: 918 entries, 0 to 917\n",
      "Data columns (total 12 columns):\n",
      " #   Column       Non-Null Count  Dtype  \n",
      "---  ------       --------------  -----  \n",
      " 0   AGE          918 non-null    int64  \n",
      " 1   SEXE         918 non-null    object \n",
      " 2   TDT          918 non-null    object \n",
      " 3   PAR          918 non-null    int64  \n",
      " 4   CHOLESTEROL  918 non-null    int64  \n",
      " 5   GAJ          918 non-null    int64  \n",
      " 6   ECG          918 non-null    object \n",
      " 7   FCMAX        918 non-null    int64  \n",
      " 8   ANGINE       918 non-null    object \n",
      " 9   DEPRESSION   918 non-null    float64\n",
      " 10  PENTE        918 non-null    object \n",
      " 11  CŒUR         918 non-null    int64  \n",
      "dtypes: float64(1), int64(6), object(5)\n",
      "memory usage: 86.2+ KB\n"
     ]
    }
   ],
   "source": [
    "#Afficher les informations relatives au DF\n",
    "df.info()"
   ]
  },
  {
   "cell_type": "code",
   "execution_count": 6,
   "id": "4976a4cf",
   "metadata": {},
   "outputs": [],
   "source": [
    "#Normalisation des variables quantitatives\n",
    "for col in df.drop('CŒUR', axis =1).select_dtypes(np.number).columns:\n",
    "    df[col] = df[col]-df[col].mean()/df[col].std()\n"
   ]
  },
  {
   "cell_type": "code",
   "execution_count": 7,
   "id": "f97ed680",
   "metadata": {},
   "outputs": [
    {
     "data": {
      "text/html": [
       "<div>\n",
       "<style scoped>\n",
       "    .dataframe tbody tr th:only-of-type {\n",
       "        vertical-align: middle;\n",
       "    }\n",
       "\n",
       "    .dataframe tbody tr th {\n",
       "        vertical-align: top;\n",
       "    }\n",
       "\n",
       "    .dataframe thead th {\n",
       "        text-align: right;\n",
       "    }\n",
       "</style>\n",
       "<table border=\"1\" class=\"dataframe\">\n",
       "  <thead>\n",
       "    <tr style=\"text-align: right;\">\n",
       "      <th></th>\n",
       "      <th>AGE</th>\n",
       "      <th>SEXE</th>\n",
       "      <th>TDT</th>\n",
       "      <th>PAR</th>\n",
       "      <th>CHOLESTEROL</th>\n",
       "      <th>GAJ</th>\n",
       "      <th>ECG</th>\n",
       "      <th>FCMAX</th>\n",
       "      <th>ANGINE</th>\n",
       "      <th>DEPRESSION</th>\n",
       "      <th>PENTE</th>\n",
       "      <th>CŒUR</th>\n",
       "    </tr>\n",
       "  </thead>\n",
       "  <tbody>\n",
       "    <tr>\n",
       "      <th>0</th>\n",
       "      <td>34.327036</td>\n",
       "      <td>homme</td>\n",
       "      <td>AA</td>\n",
       "      <td>132.848903</td>\n",
       "      <td>287.182556</td>\n",
       "      <td>-0.551041</td>\n",
       "      <td>Normal</td>\n",
       "      <td>166.626568</td>\n",
       "      <td>Non</td>\n",
       "      <td>-0.831979</td>\n",
       "      <td>Ascendant</td>\n",
       "      <td>0</td>\n",
       "    </tr>\n",
       "    <tr>\n",
       "      <th>1</th>\n",
       "      <td>43.327036</td>\n",
       "      <td>femme</td>\n",
       "      <td>DNA</td>\n",
       "      <td>152.848903</td>\n",
       "      <td>178.182556</td>\n",
       "      <td>-0.551041</td>\n",
       "      <td>Normal</td>\n",
       "      <td>150.626568</td>\n",
       "      <td>Non</td>\n",
       "      <td>0.168021</td>\n",
       "      <td>Plat</td>\n",
       "      <td>1</td>\n",
       "    </tr>\n",
       "    <tr>\n",
       "      <th>2</th>\n",
       "      <td>31.327036</td>\n",
       "      <td>homme</td>\n",
       "      <td>AA</td>\n",
       "      <td>122.848903</td>\n",
       "      <td>281.182556</td>\n",
       "      <td>-0.551041</td>\n",
       "      <td>ST</td>\n",
       "      <td>92.626568</td>\n",
       "      <td>Non</td>\n",
       "      <td>-0.831979</td>\n",
       "      <td>Ascendant</td>\n",
       "      <td>0</td>\n",
       "    </tr>\n",
       "    <tr>\n",
       "      <th>3</th>\n",
       "      <td>42.327036</td>\n",
       "      <td>femme</td>\n",
       "      <td>ASY</td>\n",
       "      <td>130.848903</td>\n",
       "      <td>212.182556</td>\n",
       "      <td>-0.551041</td>\n",
       "      <td>Normal</td>\n",
       "      <td>102.626568</td>\n",
       "      <td>Oui</td>\n",
       "      <td>0.668021</td>\n",
       "      <td>Plat</td>\n",
       "      <td>1</td>\n",
       "    </tr>\n",
       "    <tr>\n",
       "      <th>4</th>\n",
       "      <td>48.327036</td>\n",
       "      <td>homme</td>\n",
       "      <td>DNA</td>\n",
       "      <td>142.848903</td>\n",
       "      <td>193.182556</td>\n",
       "      <td>-0.551041</td>\n",
       "      <td>Normal</td>\n",
       "      <td>116.626568</td>\n",
       "      <td>Non</td>\n",
       "      <td>-0.831979</td>\n",
       "      <td>Ascendant</td>\n",
       "      <td>0</td>\n",
       "    </tr>\n",
       "  </tbody>\n",
       "</table>\n",
       "</div>"
      ],
      "text/plain": [
       "         AGE   SEXE  TDT         PAR  CHOLESTEROL       GAJ     ECG  \\\n",
       "0  34.327036  homme   AA  132.848903   287.182556 -0.551041  Normal   \n",
       "1  43.327036  femme  DNA  152.848903   178.182556 -0.551041  Normal   \n",
       "2  31.327036  homme   AA  122.848903   281.182556 -0.551041      ST   \n",
       "3  42.327036  femme  ASY  130.848903   212.182556 -0.551041  Normal   \n",
       "4  48.327036  homme  DNA  142.848903   193.182556 -0.551041  Normal   \n",
       "\n",
       "        FCMAX ANGINE  DEPRESSION       PENTE  CŒUR  \n",
       "0  166.626568    Non    -0.831979  Ascendant     0  \n",
       "1  150.626568    Non     0.168021       Plat     1  \n",
       "2   92.626568    Non    -0.831979  Ascendant     0  \n",
       "3  102.626568    Oui     0.668021       Plat     1  \n",
       "4  116.626568    Non    -0.831979  Ascendant     0  "
      ]
     },
     "execution_count": 7,
     "metadata": {},
     "output_type": "execute_result"
    }
   ],
   "source": [
    "#Vérification des résultats\n",
    "df.head()"
   ]
  },
  {
   "cell_type": "code",
   "execution_count": 8,
   "id": "e4e42ce5",
   "metadata": {},
   "outputs": [],
   "source": [
    "#Encodage des variables qualitatives\n",
    "for col in df.select_dtypes('object').columns:\n",
    "    df[col] = df[col].astype('category').cat.codes"
   ]
  },
  {
   "cell_type": "code",
   "execution_count": 9,
   "id": "85a85a02",
   "metadata": {},
   "outputs": [
    {
     "data": {
      "text/html": [
       "<div>\n",
       "<style scoped>\n",
       "    .dataframe tbody tr th:only-of-type {\n",
       "        vertical-align: middle;\n",
       "    }\n",
       "\n",
       "    .dataframe tbody tr th {\n",
       "        vertical-align: top;\n",
       "    }\n",
       "\n",
       "    .dataframe thead th {\n",
       "        text-align: right;\n",
       "    }\n",
       "</style>\n",
       "<table border=\"1\" class=\"dataframe\">\n",
       "  <thead>\n",
       "    <tr style=\"text-align: right;\">\n",
       "      <th></th>\n",
       "      <th>AGE</th>\n",
       "      <th>SEXE</th>\n",
       "      <th>TDT</th>\n",
       "      <th>PAR</th>\n",
       "      <th>CHOLESTEROL</th>\n",
       "      <th>GAJ</th>\n",
       "      <th>ECG</th>\n",
       "      <th>FCMAX</th>\n",
       "      <th>ANGINE</th>\n",
       "      <th>DEPRESSION</th>\n",
       "      <th>PENTE</th>\n",
       "      <th>CŒUR</th>\n",
       "    </tr>\n",
       "  </thead>\n",
       "  <tbody>\n",
       "    <tr>\n",
       "      <th>0</th>\n",
       "      <td>34.327036</td>\n",
       "      <td>1</td>\n",
       "      <td>0</td>\n",
       "      <td>132.848903</td>\n",
       "      <td>287.182556</td>\n",
       "      <td>-0.551041</td>\n",
       "      <td>1</td>\n",
       "      <td>166.626568</td>\n",
       "      <td>0</td>\n",
       "      <td>-0.831979</td>\n",
       "      <td>0</td>\n",
       "      <td>0</td>\n",
       "    </tr>\n",
       "    <tr>\n",
       "      <th>1</th>\n",
       "      <td>43.327036</td>\n",
       "      <td>0</td>\n",
       "      <td>3</td>\n",
       "      <td>152.848903</td>\n",
       "      <td>178.182556</td>\n",
       "      <td>-0.551041</td>\n",
       "      <td>1</td>\n",
       "      <td>150.626568</td>\n",
       "      <td>0</td>\n",
       "      <td>0.168021</td>\n",
       "      <td>2</td>\n",
       "      <td>1</td>\n",
       "    </tr>\n",
       "    <tr>\n",
       "      <th>2</th>\n",
       "      <td>31.327036</td>\n",
       "      <td>1</td>\n",
       "      <td>0</td>\n",
       "      <td>122.848903</td>\n",
       "      <td>281.182556</td>\n",
       "      <td>-0.551041</td>\n",
       "      <td>2</td>\n",
       "      <td>92.626568</td>\n",
       "      <td>0</td>\n",
       "      <td>-0.831979</td>\n",
       "      <td>0</td>\n",
       "      <td>0</td>\n",
       "    </tr>\n",
       "    <tr>\n",
       "      <th>3</th>\n",
       "      <td>42.327036</td>\n",
       "      <td>0</td>\n",
       "      <td>1</td>\n",
       "      <td>130.848903</td>\n",
       "      <td>212.182556</td>\n",
       "      <td>-0.551041</td>\n",
       "      <td>1</td>\n",
       "      <td>102.626568</td>\n",
       "      <td>1</td>\n",
       "      <td>0.668021</td>\n",
       "      <td>2</td>\n",
       "      <td>1</td>\n",
       "    </tr>\n",
       "    <tr>\n",
       "      <th>4</th>\n",
       "      <td>48.327036</td>\n",
       "      <td>1</td>\n",
       "      <td>3</td>\n",
       "      <td>142.848903</td>\n",
       "      <td>193.182556</td>\n",
       "      <td>-0.551041</td>\n",
       "      <td>1</td>\n",
       "      <td>116.626568</td>\n",
       "      <td>0</td>\n",
       "      <td>-0.831979</td>\n",
       "      <td>0</td>\n",
       "      <td>0</td>\n",
       "    </tr>\n",
       "  </tbody>\n",
       "</table>\n",
       "</div>"
      ],
      "text/plain": [
       "         AGE  SEXE  TDT         PAR  CHOLESTEROL       GAJ  ECG       FCMAX  \\\n",
       "0  34.327036     1    0  132.848903   287.182556 -0.551041    1  166.626568   \n",
       "1  43.327036     0    3  152.848903   178.182556 -0.551041    1  150.626568   \n",
       "2  31.327036     1    0  122.848903   281.182556 -0.551041    2   92.626568   \n",
       "3  42.327036     0    1  130.848903   212.182556 -0.551041    1  102.626568   \n",
       "4  48.327036     1    3  142.848903   193.182556 -0.551041    1  116.626568   \n",
       "\n",
       "   ANGINE  DEPRESSION   PENTE  CŒUR  \n",
       "0       0    -0.831979      0     0  \n",
       "1       0     0.168021      2     1  \n",
       "2       0    -0.831979      0     0  \n",
       "3       1     0.668021      2     1  \n",
       "4       0    -0.831979      0     0  "
      ]
     },
     "execution_count": 9,
     "metadata": {},
     "output_type": "execute_result"
    }
   ],
   "source": [
    "#Vérification des résultats\n",
    "df.head()"
   ]
  },
  {
   "cell_type": "code",
   "execution_count": 10,
   "id": "acd4ee77",
   "metadata": {},
   "outputs": [],
   "source": [
    "#Séparer la variable cible (coeur) et les variables explicatives\n",
    "y = df['CŒUR']\n",
    "x = df.drop('CŒUR', axis = 1)"
   ]
  },
  {
   "cell_type": "code",
   "execution_count": 11,
   "id": "d38c03fb",
   "metadata": {},
   "outputs": [],
   "source": [
    "#Subdivision du jeu de données en apprentissage et en test\n",
    "x_train, x_test, y_train, y_test = train_test_split(x,y,test_size =0.2, random_state =1)\n",
    "#train_set, test_set = train_test_split(df,test_size =0.2, random_state =1)"
   ]
  },
  {
   "cell_type": "code",
   "execution_count": 12,
   "id": "a61a2912",
   "metadata": {},
   "outputs": [
    {
     "name": "stdout",
     "output_type": "stream",
     "text": [
      "(734, 11) (184, 11) (734,) (184,)\n"
     ]
    }
   ],
   "source": [
    "#Vérifier le résultat\n",
    "print(x_train.shape, x_test.shape, y_train.shape, y_test.shape)"
   ]
  },
  {
   "cell_type": "code",
   "execution_count": 13,
   "id": "38ab6c74",
   "metadata": {},
   "outputs": [],
   "source": [
    "#Création d'un objet lr de la classe LogisticRegression\n",
    "lr = LogisticRegression(solver ='newton-cg', random_state =1)"
   ]
  },
  {
   "cell_type": "code",
   "execution_count": 14,
   "id": "5ad5e50a",
   "metadata": {},
   "outputs": [],
   "source": [
    "#Apprentissage du modèle\n",
    "model = lr.fit(x_train, y_train)\n",
    "#model = lr.fit(train_set.drop('CŒUR', axis = 1), train_set['CŒUR'])"
   ]
  },
  {
   "cell_type": "code",
   "execution_count": 15,
   "id": "c7c219c6",
   "metadata": {},
   "outputs": [
    {
     "data": {
      "text/plain": [
       "array([[0.34770612, 0.65229388],\n",
       "       [0.17508424, 0.82491576],\n",
       "       [0.03708029, 0.96291971],\n",
       "       [0.08135272, 0.91864728],\n",
       "       [0.18111693, 0.81888307]])"
      ]
     },
     "execution_count": 15,
     "metadata": {},
     "output_type": "execute_result"
    }
   ],
   "source": [
    "#Probabilité d'appartenance à l'une des classes\n",
    "predict_proba = model.predict_proba(x_test)\n",
    "predict_proba[:5,:]"
   ]
  },
  {
   "cell_type": "code",
   "execution_count": 16,
   "id": "0e4f9aca",
   "metadata": {},
   "outputs": [
    {
     "data": {
      "text/plain": [
       "array([1, 1, 1, 1, 1])"
      ]
     },
     "execution_count": 16,
     "metadata": {},
     "output_type": "execute_result"
    }
   ],
   "source": [
    "#Application du modèle au données de test\n",
    "y_pred = model.predict(x_test)\n",
    "y_pred[:5]"
   ]
  },
  {
   "cell_type": "code",
   "execution_count": 17,
   "id": "a849be08",
   "metadata": {},
   "outputs": [
    {
     "data": {
      "text/plain": [
       "array([[ 66,   8],\n",
       "       [  8, 102]])"
      ]
     },
     "execution_count": 17,
     "metadata": {},
     "output_type": "execute_result"
    }
   ],
   "source": [
    "#matrice de confusion\n",
    "mc = confusion_matrix(y_test, y_pred)\n",
    "mc"
   ]
  },
  {
   "cell_type": "code",
   "execution_count": 18,
   "id": "5f2a721e",
   "metadata": {},
   "outputs": [
    {
     "data": {
      "text/plain": [
       "0.9130434782608695"
      ]
     },
     "execution_count": 18,
     "metadata": {},
     "output_type": "execute_result"
    }
   ],
   "source": [
    "#Taux de bonnes prédictions\n",
    "accuracy = accuracy_score(y_test, y_pred)\n",
    "accuracy\n",
    "#Conclusion : le modèle produit 85.32 % de bonne prédiction."
   ]
  },
  {
   "cell_type": "code",
   "execution_count": 19,
   "id": "39678925",
   "metadata": {},
   "outputs": [
    {
     "data": {
      "text/plain": [
       "0.9272727272727272"
      ]
     },
     "execution_count": 19,
     "metadata": {},
     "output_type": "execute_result"
    }
   ],
   "source": [
    "#Sensibilité\n",
    "recall = recall_score(y_test, y_pred)\n",
    "recall\n",
    "#conclusion : lorsqu'un individu est malade, nous avons 84.11 % de chance que le modèle le prédise."
   ]
  },
  {
   "cell_type": "code",
   "execution_count": 20,
   "id": "62060487",
   "metadata": {},
   "outputs": [
    {
     "data": {
      "text/plain": [
       "0.9272727272727272"
      ]
     },
     "execution_count": 20,
     "metadata": {},
     "output_type": "execute_result"
    }
   ],
   "source": [
    "#Précision\n",
    "precision = precision_score(y_test, y_pred)\n",
    "precision\n",
    "#Conclusion : lorsque le modèle prédit qu'un individu est malade, nous avons 90 % de chace que cela soit vraie."
   ]
  },
  {
   "cell_type": "code",
   "execution_count": 21,
   "id": "e0630294",
   "metadata": {},
   "outputs": [
    {
     "name": "stdout",
     "output_type": "stream",
     "text": [
      "              precision    recall  f1-score   support\n",
      "\n",
      "           0       0.89      0.89      0.89        74\n",
      "           1       0.93      0.93      0.93       110\n",
      "\n",
      "    accuracy                           0.91       184\n",
      "   macro avg       0.91      0.91      0.91       184\n",
      "weighted avg       0.91      0.91      0.91       184\n",
      "\n"
     ]
    }
   ],
   "source": [
    "#plus de détails avec classification report\n",
    "cr = classification_report(y_test, y_pred)\n",
    "print(cr)"
   ]
  },
  {
   "cell_type": "code",
   "execution_count": 22,
   "id": "4803ba1d",
   "metadata": {},
   "outputs": [
    {
     "data": {
      "text/plain": [
       "1    0.553377\n",
       "0    0.446623\n",
       "Name: CŒUR, dtype: float64"
      ]
     },
     "execution_count": 22,
     "metadata": {},
     "output_type": "execute_result"
    }
   ],
   "source": [
    "#Modèle Trival\n",
    "df['CŒUR'].value_counts()/df.shape[0]\n",
    "#Conclusion : si nous nous basons sur le hasard pour faire nos prédiction, nous aurons 55.37 % de bonne prédiction."
   ]
  },
  {
   "cell_type": "code",
   "execution_count": 23,
   "id": "76511cb7",
   "metadata": {},
   "outputs": [
    {
     "data": {
      "text/plain": [
       "0.8460490463215259"
      ]
     },
     "execution_count": 23,
     "metadata": {},
     "output_type": "execute_result"
    }
   ],
   "source": [
    "#Score d'entrainement (le taux de bonne prédiction calculé sur la base des données d'entrainement)\n",
    "model.score(x_train, y_train)"
   ]
  },
  {
   "cell_type": "code",
   "execution_count": 24,
   "id": "272d4686",
   "metadata": {},
   "outputs": [
    {
     "data": {
      "text/plain": [
       "0.9130434782608695"
      ]
     },
     "execution_count": 24,
     "metadata": {},
     "output_type": "execute_result"
    }
   ],
   "source": [
    "#Score d'entrainement (le taux de bonne prédiction calculé sur la base des données de test)\n",
    "model.score(x_test, y_test)"
   ]
  },
  {
   "cell_type": "markdown",
   "id": "d91e6da6",
   "metadata": {},
   "source": [
    "# Arbre de decision"
   ]
  },
  {
   "cell_type": "code",
   "execution_count": 25,
   "id": "f1ccd5a9",
   "metadata": {},
   "outputs": [],
   "source": [
    "#Subdivision du jeu de données en apprentissage et en test\n",
    "# x_train, x_test, y_train, y_test = train_test_split(x,y,test_size =300, random_state =1)"
   ]
  },
  {
   "cell_type": "code",
   "execution_count": 26,
   "id": "addde021",
   "metadata": {},
   "outputs": [],
   "source": [
    "#Vérifier le résultat\n",
    "# print(x_train.shape, x_test.shape, y_train.shape, y_test.shape)"
   ]
  },
  {
   "cell_type": "code",
   "execution_count": 27,
   "id": "69253e3a",
   "metadata": {},
   "outputs": [],
   "source": [
    "#instanciation de l'arbre\n",
    "arbreFirst = DecisionTreeClassifier()"
   ]
  },
  {
   "cell_type": "code",
   "execution_count": 28,
   "id": "1774fab9",
   "metadata": {},
   "outputs": [],
   "source": [
    "#construction de l'arbre\n",
    "model2 = arbreFirst.fit(x_train, y_train)"
   ]
  },
  {
   "cell_type": "code",
   "execution_count": 29,
   "id": "868aa18d",
   "metadata": {},
   "outputs": [
    {
     "data": {
      "text/plain": [
       "array([1, 0, 1, 1, 0])"
      ]
     },
     "execution_count": 29,
     "metadata": {},
     "output_type": "execute_result"
    }
   ],
   "source": [
    "#prédiction sur l'échantillon test\n",
    "# predFirst = arbreFirst.predict(x_test)\n",
    "predFirst = model2.predict(x_test)\n",
    "predFirst[:5]"
   ]
  },
  {
   "cell_type": "code",
   "execution_count": 30,
   "id": "0e7924a5",
   "metadata": {},
   "outputs": [],
   "source": [
    "#distribution des predictions\n",
    "# print(np.unique(predFirst,return_counts=True))"
   ]
  },
  {
   "cell_type": "code",
   "execution_count": 31,
   "id": "505b4dfe",
   "metadata": {},
   "outputs": [
    {
     "data": {
      "text/plain": [
       "array([[64, 10],\n",
       "       [31, 79]])"
      ]
     },
     "execution_count": 31,
     "metadata": {},
     "output_type": "execute_result"
    }
   ],
   "source": [
    "#matrice de confusion\n",
    "mc = confusion_matrix(y_test, predFirst)\n",
    "mc"
   ]
  },
  {
   "cell_type": "code",
   "execution_count": 32,
   "id": "41879829",
   "metadata": {},
   "outputs": [
    {
     "data": {
      "text/plain": [
       "0.7771739130434783"
      ]
     },
     "execution_count": 32,
     "metadata": {},
     "output_type": "execute_result"
    }
   ],
   "source": [
    "#Taux de bonnes prédictions\n",
    "accuracy = accuracy_score(y_test, predFirst)\n",
    "accuracy\n",
    "#Conclusion : le modèle produit 85.32 % de bonne prédiction."
   ]
  },
  {
   "cell_type": "code",
   "execution_count": 33,
   "id": "0a6d30ea",
   "metadata": {},
   "outputs": [
    {
     "data": {
      "text/plain": [
       "0.7181818181818181"
      ]
     },
     "execution_count": 33,
     "metadata": {},
     "output_type": "execute_result"
    }
   ],
   "source": [
    "#Sensibilité\n",
    "recall = recall_score(y_test, predFirst)\n",
    "recall\n",
    "#conclusion : lorsqu'un individu est malade, nous avons 84.11 % de chance que le modèle le prédise."
   ]
  },
  {
   "cell_type": "code",
   "execution_count": 34,
   "id": "6f9435da",
   "metadata": {},
   "outputs": [
    {
     "data": {
      "text/plain": [
       "0.8876404494382022"
      ]
     },
     "execution_count": 34,
     "metadata": {},
     "output_type": "execute_result"
    }
   ],
   "source": [
    "#précision\n",
    "precise = precision_score(y_test,predFirst)\n",
    "precise\n",
    "#Conclusion : lorsque le modèle prédit qu'un individu est malade, nous avons 90 % de chace que cela soit vraie."
   ]
  },
  {
   "cell_type": "code",
   "execution_count": 35,
   "id": "8889523d",
   "metadata": {},
   "outputs": [
    {
     "name": "stdout",
     "output_type": "stream",
     "text": [
      "              precision    recall  f1-score   support\n",
      "\n",
      "           0       0.67      0.86      0.76        74\n",
      "           1       0.89      0.72      0.79       110\n",
      "\n",
      "    accuracy                           0.78       184\n",
      "   macro avg       0.78      0.79      0.78       184\n",
      "weighted avg       0.80      0.78      0.78       184\n",
      "\n"
     ]
    }
   ],
   "source": [
    "#plus de détails avec classification report\n",
    "cr = classification_report(y_test, predFirst)\n",
    "print(cr)"
   ]
  },
  {
   "cell_type": "code",
   "execution_count": 36,
   "id": "d63501f1",
   "metadata": {},
   "outputs": [
    {
     "data": {
      "text/plain": [
       "1    0.553377\n",
       "0    0.446623\n",
       "Name: CŒUR, dtype: float64"
      ]
     },
     "execution_count": 36,
     "metadata": {},
     "output_type": "execute_result"
    }
   ],
   "source": [
    "#Modèle Trival\n",
    "df['CŒUR'].value_counts()/df.shape[0]\n",
    "#Conclusion : si nous nous basons sur le hasard pour faire nos prédiction, nous aurons 55.37 % de bonne prédiction."
   ]
  },
  {
   "cell_type": "code",
   "execution_count": 37,
   "id": "0b337879",
   "metadata": {},
   "outputs": [
    {
     "data": {
      "text/plain": [
       "1.0"
      ]
     },
     "execution_count": 37,
     "metadata": {},
     "output_type": "execute_result"
    }
   ],
   "source": [
    "#Score d'entrainement (le taux de bonne prédiction calculé sur la base des données d'entrainement)\n",
    "model2.score(x_train, y_train)"
   ]
  },
  {
   "cell_type": "code",
   "execution_count": 38,
   "id": "99337413",
   "metadata": {},
   "outputs": [
    {
     "data": {
      "text/plain": [
       "0.7771739130434783"
      ]
     },
     "execution_count": 38,
     "metadata": {},
     "output_type": "execute_result"
    }
   ],
   "source": [
    "#Score d'entrainement (le taux de bonne prédiction calculé sur la base des données de test)\n",
    "model2.score(x_test, y_test)"
   ]
  },
  {
   "cell_type": "code",
   "execution_count": null,
   "id": "99f82e02",
   "metadata": {},
   "outputs": [],
   "source": []
  }
 ],
 "metadata": {
  "kernelspec": {
   "display_name": "Python 3",
   "language": "python",
   "name": "python3"
  },
  "language_info": {
   "codemirror_mode": {
    "name": "ipython",
    "version": 3
   },
   "file_extension": ".py",
   "mimetype": "text/x-python",
   "name": "python",
   "nbconvert_exporter": "python",
   "pygments_lexer": "ipython3",
   "version": "3.8.8"
  }
 },
 "nbformat": 4,
 "nbformat_minor": 5
}
